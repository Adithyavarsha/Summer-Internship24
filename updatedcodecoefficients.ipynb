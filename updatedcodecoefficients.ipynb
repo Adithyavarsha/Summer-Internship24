{
  "nbformat": 4,
  "nbformat_minor": 0,
  "metadata": {
    "colab": {
      "provenance": [],
      "authorship_tag": "ABX9TyOs/hAmsoiXfnUql2MjBFKA",
      "include_colab_link": true
    },
    "kernelspec": {
      "name": "python3",
      "display_name": "Python 3"
    },
    "language_info": {
      "name": "python"
    }
  },
  "cells": [
    {
      "cell_type": "markdown",
      "metadata": {
        "id": "view-in-github",
        "colab_type": "text"
      },
      "source": [
        "<a href=\"https://colab.research.google.com/github/Adithyavarsha/Summer-Internship24/blob/main/updatedcodecoefficients.ipynb\" target=\"_parent\"><img src=\"https://colab.research.google.com/assets/colab-badge.svg\" alt=\"Open In Colab\"/></a>"
      ]
    },
    {
      "cell_type": "code",
      "execution_count": 1,
      "metadata": {
        "colab": {
          "base_uri": "https://localhost:8080/"
        },
        "id": "V2Q8J7cgR4dS",
        "outputId": "5e68b6a0-7c50-419f-c4a3-6f8dc74e3766"
      },
      "outputs": [
        {
          "output_type": "stream",
          "name": "stdout",
          "text": [
            "a*f*k*p - a*f*k*z - a*f*l*o - a*f*p*z + a*f*z**2 - a*g*i*p + a*g*i*z + a*g*l*n + a*h*j*o - a*h*k*n + a*h*n*z - a*k*p*z + a*k*z**2 + a*l*o*z + a*p*z**2 - a*z**3 - b*e*k*p + b*e*k*z + b*e*l*o + b*e*p*z - b*e*z**2 + b*g*i*p - b*g*i*z - b*g*l*m - b*h*i*o + b*h*k*m - b*h*m*z + c*e*j*p - c*e*j*z - c*e*l*n - c*f*i*p + c*f*i*z + c*f*j*m + c*h*i*n - c*h*j*m + c*i*p*z - c*i*z**2 - c*j*m*z - d*e*j*o + d*e*k*n - d*e*n*z + d*f*i*o - d*f*k*m + d*f*m*z - d*g*i*n + d*g*j*m - d*i*o*z + d*k*m*z - d*m*z**2 - f*k*p*z + f*k*z**2 + f*l*o*z + f*p*z**2 - f*z**3 + g*i*p*z - g*i*z**2 - g*l*n*z - h*j*o*z + h*k*n*z - h*n*z**2 + k*p*z**2 - k*z**3 - l*o*z**2 - p*z**3 + z**4\n",
            "COLLECTED TERMS\n",
            "a*f*k*p - a*f*l*o - a*g*i*p + a*g*l*n + a*h*j*o - a*h*k*n - b*e*k*p + b*e*l*o + b*g*i*p - b*g*l*m - b*h*i*o + b*h*k*m + c*e*j*p - c*e*l*n - c*f*i*p + c*f*j*m + c*h*i*n - c*h*j*m - d*e*j*o + d*e*k*n + d*f*i*o - d*f*k*m - d*g*i*n + d*g*j*m + z**4 + z**3*(-a - f - k - p) + z**2*(a*f + a*k + a*p - b*e - c*i - d*m + f*k + f*p - g*i - h*n + k*p - l*o) + z*(-a*f*k - a*f*p + a*g*i + a*h*n - a*k*p + a*l*o + b*e*k + b*e*p - b*g*i - b*h*m - c*e*j + c*f*i + c*i*p - c*j*m - d*e*n + d*f*m - d*i*o + d*k*m - f*k*p + f*l*o + g*i*p - g*l*n - h*j*o + h*k*n)\n",
            "COEFFICIENTS\n",
            "Coefficient of z in the equation:\n",
            "4 1\n",
            ".............................................................................\n",
            "3 -a - f - k - p\n",
            ".............................................................................\n",
            "2 a*f + a*k + a*p - b*e - c*i - d*m + f*k + f*p - g*i - h*n + k*p - l*o\n",
            ".............................................................................\n",
            "1 -a*f*k - a*f*p + a*g*i + a*h*n - a*k*p + a*l*o + b*e*k + b*e*p - b*g*i - b*h*m - c*e*j + c*f*i + c*i*p - c*j*m - d*e*n + d*f*m - d*i*o + d*k*m - f*k*p + f*l*o + g*i*p - g*l*n - h*j*o + h*k*n\n",
            ".............................................................................\n",
            "0 a*f*k*p - a*f*l*o - a*g*i*p + a*g*l*n + a*h*j*o - a*h*k*n - b*e*k*p + b*e*l*o + b*g*i*p - b*g*l*m - b*h*i*o + b*h*k*m + c*e*j*p - c*e*l*n - c*f*i*p + c*f*j*m + c*h*i*n - c*h*j*m - d*e*j*o + d*e*k*n + d*f*i*o - d*f*k*m - d*g*i*n + d*g*j*m\n",
            "------------------------------------------------------------------------------------\n",
            "Terms in the equation without z:\n",
            "a*f*k*p - a*f*l*o - a*g*i*p + a*g*l*n + a*h*j*o - a*h*k*n - b*e*k*p + b*e*l*o + b*g*i*p - b*g*l*m - b*h*i*o + b*h*k*m + c*e*j*p - c*e*l*n - c*f*i*p + c*f*j*m + c*h*i*n - c*h*j*m - d*e*j*o + d*e*k*n + d*f*i*o - d*f*k*m - d*g*i*n + d*g*j*m\n"
          ]
        }
      ],
      "source": [
        "# -*- coding: utf-8 -*-\n",
        "\"\"\"\n",
        "Created on Tue Jun 18 21:19:52 2024\n",
        "\n",
        "@author: av439\n",
        "\"\"\"\n",
        "\n",
        "import sympy as sp\n",
        "\n",
        "# Define the symbols\n",
        "a, f, k, p = sp.symbols('a f k p')\n",
        "g, h, i, j = sp.symbols('g h i j')\n",
        "l, m, n, o = sp.symbols('l m n o')\n",
        "b, c, d, e = sp.symbols('b c d e')\n",
        "z = sp.symbols('z')\n",
        "\n",
        "# Define the equation\n",
        "equation = ((a - z)*(f - z)*(k - z)*(p - z) +\n",
        "            (a - z)*g*l*n + (a - z)*h*j*o -\n",
        "            (a - z)*h*(k - z)*n - (a - z)*g*i*(p - z) -\n",
        "            (a - z)*(f - z)*l*o - b*e*(k - z)*(p - z) -\n",
        "            c*e*l*n - d*e*j*o + d*e*(k - z)*n +\n",
        "            c*e*j*(p - z) + b*e*l*o + b*g*i*(p - z) +\n",
        "            c*h*i*n + d*(f - z)*i*o - d*g*i*n -\n",
        "            c*(f - z)*i*(p - z) - b*h*i*o -\n",
        "            b*g*l*m - c*h*j*m - d*(f - z)*(k - z)*m +\n",
        "            d*g*j*m + c*(f - z)*j*m + b*h*(k - z)*m)\n",
        "\n",
        "# Expand the equation\n",
        "expanded_equation = sp.expand(equation)\n",
        "print(expanded_equation)\n",
        "print(\"COLLECTED TERMS\")\n",
        "\n",
        "# Collect the terms involving z\n",
        "collected_terms = sp.collect(expanded_equation, z)\n",
        "print(collected_terms)\n",
        "print(\"COEFFICIENTS\")\n",
        "# Extract the coefficient of z\n",
        "coefficient_of_z4 = collected_terms.coeff(z**4)\n",
        "coefficient_of_z3 = collected_terms.coeff(z**3)\n",
        "coefficient_of_z2 = collected_terms.coeff(z**2)\n",
        "coefficient_of_z1 = collected_terms.coeff(z)\n",
        "coefficient_of_z0 = collected_terms.subs(z,0)\n",
        "print(\"Coefficient of z in the equation:\")\n",
        "print(\"4\",coefficient_of_z4)\n",
        "print(\".............................................................................\")\n",
        "print(\"3\",coefficient_of_z3)\n",
        "print(\".............................................................................\")\n",
        "print(\"2\",coefficient_of_z2)\n",
        "print(\".............................................................................\")\n",
        "print(\"1\",coefficient_of_z1)\n",
        "print(\".............................................................................\")\n",
        "print(\"0\",coefficient_of_z0)\n",
        "\n",
        "\n",
        "print(\"------------------------------------------------------------------------------------\")\n",
        "\n",
        "import sympy as sp\n",
        "\n",
        "# Define the symbols\n",
        "a, f, k, p = sp.symbols('a f k p')\n",
        "g, h, i, j = sp.symbols('g h i j')\n",
        "l, m, n, o = sp.symbols('l m n o')\n",
        "b, c, d, e = sp.symbols('b c d e')\n",
        "z = sp.symbols('z')\n",
        "\n",
        "# Define the equation\n",
        "equation = ((a - z)*(f - z)*(k - z)*(p - z) +\n",
        "            (a - z)*g*l*n + (a - z)*h*j*o -\n",
        "            (a - z)*h*(k - z)*n - (a - z)*g*i*(p - z) -\n",
        "            (a - z)*(f - z)*l*o - b*e*(k - z)*(p - z) -\n",
        "            c*e*l*n - d*e*j*o + d*e*(k - z)*n +\n",
        "            c*e*j*(p - z) + b*e*l*o + b*g*i*(p - z) +\n",
        "            c*h*i*n + d*(f - z)*i*o - d*g*i*n -\n",
        "            c*(f - z)*i*(p - z) - b*h*i*o -\n",
        "            b*g*l*m - c*h*j*m - d*(f - z)*(k - z)*m +\n",
        "            d*g*j*m + c*(f - z)*j*m + b*h*(k - z)*m)\n",
        "\n",
        "# Expand the equation\n",
        "expanded_equation = sp.expand(equation)\n",
        "\n",
        "# Collect the terms involving z\n",
        "collected_terms = sp.collect(expanded_equation, z)\n",
        "\n",
        "# Extract the terms without z\n",
        "constant_terms = collected_terms.subs(z, 0)\n",
        "\n",
        "print(\"Terms in the equation without z:\")\n",
        "print(constant_terms)\n",
        "\n"
      ]
    }
  ]
}