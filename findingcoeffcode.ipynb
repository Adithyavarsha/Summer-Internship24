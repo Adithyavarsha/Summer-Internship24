{
  "nbformat": 4,
  "nbformat_minor": 0,
  "metadata": {
    "colab": {
      "provenance": [],
      "authorship_tag": "ABX9TyMeQ+ewjCwdnKX0pmNoeX0m",
      "include_colab_link": true
    },
    "kernelspec": {
      "name": "python3",
      "display_name": "Python 3"
    },
    "language_info": {
      "name": "python"
    }
  },
  "cells": [
    {
      "cell_type": "markdown",
      "metadata": {
        "id": "view-in-github",
        "colab_type": "text"
      },
      "source": [
        "<a href=\"https://colab.research.google.com/github/Adithyavarsha/Summer-Internship24/blob/main/findingcoeffcode.ipynb\" target=\"_parent\"><img src=\"https://colab.research.google.com/assets/colab-badge.svg\" alt=\"Open In Colab\"/></a>"
      ]
    },
    {
      "cell_type": "code",
      "execution_count": 1,
      "metadata": {
        "colab": {
          "base_uri": "https://localhost:8080/"
        },
        "id": "IifpTn8pKTTU",
        "outputId": "134e29a0-b425-473a-a45a-d70ce1abfe10"
      },
      "outputs": [
        {
          "output_type": "stream",
          "name": "stdout",
          "text": [
            "Coefficient of z in the equation:\n",
            "-a*f*k - a*f*p + a*g*i + a*h*n - a*k*p + a*l*o + b*e*k + b*e*p - b*g*i - b*h*m - c*e*j + c*f*i + c*i*p - c*j*m - d*e*n + d*f*m - d*i*o + d*k*m - f*k*p + f*l*o + g*i*p - g*l*n - h*j*o + h*k*n\n"
          ]
        }
      ],
      "source": [
        "import sympy as sp\n",
        "\n",
        "# Define the symbols\n",
        "a, f, k, p = sp.symbols('a f k p')\n",
        "g, h, i, j = sp.symbols('g h i j')\n",
        "l, m, n, o = sp.symbols('l m n o')\n",
        "b, c, d, e = sp.symbols('b c d e')\n",
        "z = sp.symbols('z')\n",
        "\n",
        "# Define the equation\n",
        "equation = ((a - z)*(f - z)*(k - z)*(p - z) +\n",
        "            (a - z)*g*l*n + (a - z)*h*j*o -\n",
        "            (a - z)*h*(k - z)*n - (a - z)*g*i*(p - z) -\n",
        "            (a - z)*(f - z)*l*o - b*e*(k - z)*(p - z) -\n",
        "            c*e*l*n - d*e*j*o + d*e*(k - z)*n +\n",
        "            c*e*j*(p - z) + b*e*l*o + b*g*i*(p - z) +\n",
        "            c*h*i*n + d*(f - z)*i*o - d*g*i*n -\n",
        "            c*(f - z)*i*(p - z) - b*h*i*o -\n",
        "            b*g*l*m - c*h*j*m - d*(f - z)*(k - z)*m +\n",
        "            d*g*j*m + c*(f - z)*j*m + b*h*(k - z)*m)\n",
        "\n",
        "# Expand the equation\n",
        "expanded_equation = sp.expand(equation)\n",
        "\n",
        "# Collect the terms involving z\n",
        "collected_terms = sp.collect(expanded_equation, z)\n",
        "\n",
        "# Extract the coefficient of z\n",
        "coefficient_of_z = collected_terms.coeff(z)\n",
        "\n",
        "print(\"Coefficient of z in the equation:\")\n",
        "print(coefficient_of_z)\n"
      ]
    },
    {
      "cell_type": "code",
      "execution_count": null,
      "metadata": {
        "colab": {
          "base_uri": "https://localhost:8080/"
        },
        "outputId": "134e29a0-b425-473a-a45a-d70ce1abfe10",
        "id": "wCx1jq9zKie_"
      },
      "outputs": [
        {
          "output_type": "stream",
          "name": "stdout",
          "text": [
            "Coefficient of z in the equation:\n",
            "-a*f*k - a*f*p + a*g*i + a*h*n - a*k*p + a*l*o + b*e*k + b*e*p - b*g*i - b*h*m - c*e*j + c*f*i + c*i*p - c*j*m - d*e*n + d*f*m - d*i*o + d*k*m - f*k*p + f*l*o + g*i*p - g*l*n - h*j*o + h*k*n\n"
          ]
        }
      ],
      "source": [
        "import sympy as sp\n",
        "\n",
        "# Define the symbols\n",
        "a, f, k, p = sp.symbols('a f k p')\n",
        "g, h, i, j = sp.symbols('g h i j')\n",
        "l, m, n, o = sp.symbols('l m n o')\n",
        "b, c, d, e = sp.symbols('b c d e')\n",
        "z = sp.symbols('z')\n",
        "\n",
        "# Define the equation\n",
        "equation = ((a - z)*(f - z)*(k - z)*(p - z) +\n",
        "            (a - z)*g*l*n + (a - z)*h*j*o -\n",
        "            (a - z)*h*(k - z)*n - (a - z)*g*i*(p - z) -\n",
        "            (a - z)*(f - z)*l*o - b*e*(k - z)*(p - z) -\n",
        "            c*e*l*n - d*e*j*o + d*e*(k - z)*n +\n",
        "            c*e*j*(p - z) + b*e*l*o + b*g*i*(p - z) +\n",
        "            c*h*i*n + d*(f - z)*i*o - d*g*i*n -\n",
        "            c*(f - z)*i*(p - z) - b*h*i*o -\n",
        "            b*g*l*m - c*h*j*m - d*(f - z)*(k - z)*m +\n",
        "            d*g*j*m + c*(f - z)*j*m + b*h*(k - z)*m)\n",
        "\n",
        "# Expand the equation\n",
        "expanded_equation = sp.expand(equation)\n",
        "\n",
        "# Collect the terms involving z\n",
        "collected_terms = sp.collect(expanded_equation, z)\n",
        "\n",
        "# Extract the coefficient of z\n",
        "coefficient_of_z = collected_terms.coeff(z)\n",
        "\n",
        "print(\"Coefficient of z in the equation:\")\n",
        "print(coefficient_of_z)\n"
      ]
    },
    {
      "cell_type": "code",
      "source": [
        "import sympy as sp\n",
        "\n",
        "# Define the symbols\n",
        "a, f, k, p = sp.symbols('a f k p')\n",
        "g, h, i, j = sp.symbols('g h i j')\n",
        "l, m, n, o = sp.symbols('l m n o')\n",
        "b, c, d, e = sp.symbols('b c d e')\n",
        "z = sp.symbols('z')\n",
        "\n",
        "# Define the equation\n",
        "equation = ((a - z)*(f - z)*(k - z)*(p - z) +\n",
        "            (a - z)*g*l*n + (a - z)*h*j*o -\n",
        "            (a - z)*h*(k - z)*n - (a - z)*g*i*(p - z) -\n",
        "            (a - z)*(f - z)*l*o - b*e*(k - z)*(p - z) -\n",
        "            c*e*l*n - d*e*j*o + d*e*(k - z)*n +\n",
        "            c*e*j*(p - z) + b*e*l*o + b*g*i*(p - z) +\n",
        "            c*h*i*n + d*(f - z)*i*o - d*g*i*n -\n",
        "            c*(f - z)*i*(p - z) - b*h*i*o -\n",
        "            b*g*l*m - c*h*j*m - d*(f - z)*(k - z)*m +\n",
        "            d*g*j*m + c*(f - z)*j*m + b*h*(k - z)*m)\n",
        "\n",
        "# Expand the equation\n",
        "expanded_equation = sp.expand(equation)\n",
        "\n",
        "# Collect the terms involving z\n",
        "collected_terms = sp.collect(expanded_equation, z)\n",
        "\n",
        "# Extract the coefficient of z\n",
        "coefficient_of_z4 = collected_terms.coeff(z**4)\n",
        "coefficient_of_z3 = collected_terms.coeff(z**3)\n",
        "coefficient_of_z2 = collected_terms.coeff(z**2)\n",
        "coefficient_of_z1 = collected_terms.coeff(z)\n",
        "coefficient_of_z0 = collected_terms.coeff(z**0)\n",
        "print(\"Coefficient of z in the equation:\")\n",
        "print(coefficient_of_z)\n"
      ],
      "metadata": {
        "colab": {
          "base_uri": "https://localhost:8080/"
        },
        "id": "YnhC8aTjLwZP",
        "outputId": "a35fe5e1-7b94-4e06-f0ce-64698909cdcd"
      },
      "execution_count": 2,
      "outputs": [
        {
          "output_type": "stream",
          "name": "stdout",
          "text": [
            "Coefficient of z in the equation:\n",
            "a*f*k*p + a*g*l*n + a*h*j*o + b*e*l*o + b*g*i*p + b*h*k*m + c*e*j*p + c*f*j*m + c*h*i*n + d*e*k*n + d*f*i*o + d*g*j*m + z**4 + z**3*(-a - f - k - p) + z**2*(a*f + a*k + a*p - b*e - c*i - d*m + f*k + f*p - g*i - h*n + k*p - l*o) + z*(-a*f*k - a*f*p + a*g*i + a*h*n - a*k*p + a*l*o + b*e*k + b*e*p - b*g*i - b*h*m - c*e*j + c*f*i + c*i*p - c*j*m - d*e*n + d*f*m - d*i*o + d*k*m - f*k*p + f*l*o + g*i*p - g*l*n - h*j*o + h*k*n)\n"
          ]
        }
      ]
    },
    {
      "cell_type": "code",
      "source": [
        "import sympy as sp\n",
        "\n",
        "# Define the symbols\n",
        "a, f, k, p = sp.symbols('a f k p')\n",
        "g, h, i, j = sp.symbols('g h i j')\n",
        "l, m, n, o = sp.symbols('l m n o')\n",
        "b, c, d, e = sp.symbols('b c d e')\n",
        "z = sp.symbols('z')\n",
        "\n",
        "# Define the equation\n",
        "equation = ((a - z)*(f - z)*(k - z)*(p - z) +\n",
        "            (a - z)*g*l*n + (a - z)*h*j*o -\n",
        "            (a - z)*h*(k - z)*n - (a - z)*g*i*(p - z) -\n",
        "            (a - z)*(f - z)*l*o - b*e*(k - z)*(p - z) -\n",
        "            c*e*l*n - d*e*j*o + d*e*(k - z)*n +\n",
        "            c*e*j*(p - z) + b*e*l*o + b*g*i*(p - z) +\n",
        "            c*h*i*n + d*(f - z)*i*o - d*g*i*n -\n",
        "            c*(f - z)*i*(p - z) - b*h*i*o -\n",
        "            b*g*l*m - c*h*j*m - d*(f - z)*(k - z)*m +\n",
        "            d*g*j*m + c*(f - z)*j*m + b*h*(k - z)*m)\n",
        "\n",
        "# Expand the equation\n",
        "expanded_equation = sp.expand(equation)\n",
        "\n",
        "# Collect the terms involving z\n",
        "collected_terms = sp.collect(expanded_equation, z)\n",
        "\n",
        "# Extract the coefficient of z\n",
        "coefficient_of_z4 = collected_terms.coeff(z**4)\n",
        "coefficient_of_z3 = collected_terms.coeff(z**3)\n",
        "coefficient_of_z2 = collected_terms.coeff(z**2)\n",
        "coefficient_of_z1 = collected_terms.coeff(z)\n",
        "coefficient_of_z0 = collected_terms.coeff(z**0)\n",
        "print(\"Coefficient of z in the equation:\")\n",
        "print(coefficient_of_z)\n"
      ],
      "metadata": {
        "colab": {
          "base_uri": "https://localhost:8080/"
        },
        "outputId": "a35fe5e1-7b94-4e06-f0ce-64698909cdcd",
        "id": "UuKNNj6HL8nF"
      },
      "execution_count": null,
      "outputs": [
        {
          "output_type": "stream",
          "name": "stdout",
          "text": [
            "Coefficient of z in the equation:\n",
            "a*f*k*p + a*g*l*n + a*h*j*o + b*e*l*o + b*g*i*p + b*h*k*m + c*e*j*p + c*f*j*m + c*h*i*n + d*e*k*n + d*f*i*o + d*g*j*m + z**4 + z**3*(-a - f - k - p) + z**2*(a*f + a*k + a*p - b*e - c*i - d*m + f*k + f*p - g*i - h*n + k*p - l*o) + z*(-a*f*k - a*f*p + a*g*i + a*h*n - a*k*p + a*l*o + b*e*k + b*e*p - b*g*i - b*h*m - c*e*j + c*f*i + c*i*p - c*j*m - d*e*n + d*f*m - d*i*o + d*k*m - f*k*p + f*l*o + g*i*p - g*l*n - h*j*o + h*k*n)\n"
          ]
        }
      ]
    },
    {
      "cell_type": "code",
      "source": [
        "import sympy as sp\n",
        "\n",
        "# Define the symbols\n",
        "a, f, k, p = sp.symbols('a f k p')\n",
        "g, h, i, j = sp.symbols('g h i j')\n",
        "l, m, n, o = sp.symbols('l m n o')\n",
        "b, c, d, e = sp.symbols('b c d e')\n",
        "z = sp.symbols('z')\n",
        "\n",
        "# Define the equation\n",
        "equation = ((a - z)*(f - z)*(k - z)*(p - z) +\n",
        "            (a - z)*g*l*n + (a - z)*h*j*o -\n",
        "            (a - z)*h*(k - z)*n - (a - z)*g*i*(p - z) -\n",
        "            (a - z)*(f - z)*l*o - b*e*(k - z)*(p - z) -\n",
        "            c*e*l*n - d*e*j*o + d*e*(k - z)*n +\n",
        "            c*e*j*(p - z) + b*e*l*o + b*g*i*(p - z) +\n",
        "            c*h*i*n + d*(f - z)*i*o - d*g*i*n -\n",
        "            c*(f - z)*i*(p - z) - b*h*i*o -\n",
        "            b*g*l*m - c*h*j*m - d*(f - z)*(k - z)*m +\n",
        "            d*g*j*m + c*(f - z)*j*m + b*h*(k - z)*m)\n",
        "\n",
        "# Expand the equation\n",
        "expanded_equation = sp.expand(equation)\n",
        "\n",
        "# Collect the terms involving z\n",
        "collected_terms = sp.collect(expanded_equation, z)\n",
        "\n",
        "# Extract the coefficient of z\n",
        "coefficient_of_z4 = collected_terms.coeff(z**4)\n",
        "coefficient_of_z3 = collected_terms.coeff(z**3)\n",
        "coefficient_of_z2 = collected_terms.coeff(z**2)\n",
        "coefficient_of_z1 = collected_terms.coeff(z)\n",
        "coefficient_of_z0 = collected_terms.coeff(z**0)\n",
        "print(\"Coefficient of z in the equation:\")\n",
        "print(coefficient_of_z4)\n",
        "print(coefficient_of_z3)\n",
        "print(coefficient_of_z2)\n",
        "print(coefficient_of_z1)\n",
        "print(coefficient_of_z0)"
      ],
      "metadata": {
        "colab": {
          "base_uri": "https://localhost:8080/"
        },
        "id": "Uj9UvCw3L-x8",
        "outputId": "dd28248e-a6ea-493e-c58d-de4d061ee4a0"
      },
      "execution_count": 3,
      "outputs": [
        {
          "output_type": "stream",
          "name": "stdout",
          "text": [
            "Coefficient of z in the equation:\n",
            "1\n",
            "-a - f - k - p\n",
            "a*f + a*k + a*p - b*e - c*i - d*m + f*k + f*p - g*i - h*n + k*p - l*o\n",
            "-a*f*k - a*f*p + a*g*i + a*h*n - a*k*p + a*l*o + b*e*k + b*e*p - b*g*i - b*h*m - c*e*j + c*f*i + c*i*p - c*j*m - d*e*n + d*f*m - d*i*o + d*k*m - f*k*p + f*l*o + g*i*p - g*l*n - h*j*o + h*k*n\n",
            "a*f*k*p + a*g*l*n + a*h*j*o + b*e*l*o + b*g*i*p + b*h*k*m + c*e*j*p + c*f*j*m + c*h*i*n + d*e*k*n + d*f*i*o + d*g*j*m + z**4 + z**3*(-a - f - k - p) + z**2*(a*f + a*k + a*p - b*e - c*i - d*m + f*k + f*p - g*i - h*n + k*p - l*o) + z*(-a*f*k - a*f*p + a*g*i + a*h*n - a*k*p + a*l*o + b*e*k + b*e*p - b*g*i - b*h*m - c*e*j + c*f*i + c*i*p - c*j*m - d*e*n + d*f*m - d*i*o + d*k*m - f*k*p + f*l*o + g*i*p - g*l*n - h*j*o + h*k*n)\n"
          ]
        }
      ]
    }
  ]
}