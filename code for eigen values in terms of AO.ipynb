{
  "nbformat": 4,
  "nbformat_minor": 0,
  "metadata": {
    "colab": {
      "provenance": [],
      "authorship_tag": "ABX9TyN3dAi/kuTuWD2rQtoQ0RSD",
      "include_colab_link": true
    },
    "kernelspec": {
      "name": "python3",
      "display_name": "Python 3"
    },
    "language_info": {
      "name": "python"
    }
  },
  "cells": [
    {
      "cell_type": "markdown",
      "metadata": {
        "id": "view-in-github",
        "colab_type": "text"
      },
      "source": [
        "<a href=\"https://colab.research.google.com/github/Adithyavarsha/Summer-Internship24/blob/main/code%20for%20eigen%20values%20in%20terms%20of%20AO.ipynb\" target=\"_parent\"><img src=\"https://colab.research.google.com/assets/colab-badge.svg\" alt=\"Open In Colab\"/></a>"
      ]
    },
    {
      "cell_type": "code",
      "execution_count": null,
      "metadata": {
        "id": "VZQKoM5_XN2l"
      },
      "outputs": [],
      "source": [
        "import sympy as sp\n",
        "\n",
        "# Define symbols\n",
        "A1, A2, A3, A4 = sp.symbols('A1 A2 A3 A4 ')\n",
        "x=sp.symbols('x')\n",
        "t=sp.symbols('t')\n",
        "D1,D2,D3,D4=sp.symbols('D1 D2 D3 D4')\n",
        "\n",
        "\n",
        "# Define arbitrary functions of the variables\n",
        "u1 = sp.Function('u1')(A2, A3, A4)\n",
        "u2 = sp.Function('u2')(A1, A3, A4)\n",
        "u3 = sp.Function('u3')(A1, A2, A4)\n",
        "u4 = sp.Function('u4')(A1, A2, A3)\n",
        "# Define the functions\n",
        "f1 = u1 * A1 - D1*sp.diff(A1,x)\n",
        "f2 = u2 * A2 - D2*sp.diff(A2,x)\n",
        "f3 = u3 * A3 - D3*sp.diff(A3,x)\n",
        "f4 = u4 * A4 - D4*sp.diff(A4,x)\n",
        "\n",
        "# Create a vector of the functions\n",
        "F = sp.Matrix([f1, f2, f3, f4])\n",
        "\n",
        "# Define the variables\n",
        "vars = sp.Matrix([A1, A2, A3, A4])\n",
        "\n",
        "# Compute the Jacobian matrix\n",
        "J = F.jacobian(vars)\n",
        "\n",
        "# Compute the eigenvalues of the Jacobian matrix\n",
        "eigenvals = J.eigenvals()\n",
        "\n",
        "print(J)\n",
        "\n",
        "# Print the eigenvalues of the Jacobian matrix\n",
        "print(\"\\nEigenvalues of the Jacobian matrix:\")\n",
        "for eigenval, multiplicity in eigenvals.items():\n",
        "    print(f\"{eigenval}: multiplicity {multiplicity}\")"
      ]
    }
  ]
}